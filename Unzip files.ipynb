{
 "cells": [
  {
   "cell_type": "code",
   "execution_count": 38,
   "id": "5286252f-d84d-48b3-92fc-46a8dd588bad",
   "metadata": {},
   "outputs": [],
   "source": [
    "import os\n",
    "import glob\n",
    "import zipfile\n",
    "# Source directory containing unzipped folders\n",
    "source_directory = '/Users/paul/Downloads/Jnk/'\n",
    "dest_directory = '/Users/paul/Downloads/Jnk_media/'\n",
    "files = os.listdir(source_directory)\n",
    "\n",
    "for file in files:\n",
    "    filename = os.path.basename(file)\n",
    "    #C:\\Users\\paul\\Downloads\\Jnk\\747 (1).zip\\media\n",
    "    #print(filename)\n",
    "    #media_folder = f\"/Users/paul/Downloads/Jnk/{filename}/media/\"\n",
    "    zip_file_path = f\"/Users/paul/Downloads/Jnk/{filename}\"\n",
    "    extract_dir = '/Users/paul/Downloads/Jnk_extract'\n",
    "\n",
    "    with zipfile.ZipFile(zip_file_path, 'r') as zip_ref:\n",
    "        zip_ref.extractall(extract_dir)"
   ]
  },
  {
   "cell_type": "code",
   "execution_count": null,
   "id": "e2a0fe6e-e794-4f0f-9a9f-f384aeb686c6",
   "metadata": {},
   "outputs": [],
   "source": [
    "print(media_folder)\n",
    "    media_files = os.listdir(media_folder)\n",
    "    print(media_files)\n",
    "    media_folder = f\"/Users/paul/Downloads/Jnk/{filename}/media/.jpg\"\n",
    "    print(media_file)\n",
    "    image = glob.glob(media_file)\n",
    "    print(image)\n",
    "    for images in image:\n",
    "        shutil.move(media_file, destination_directory)"
   ]
  },
  {
   "cell_type": "raw",
   "id": "e5065577-3d3a-48f0-9d1b-01dd7ea3808f",
   "metadata": {},
   "source": [
    "print(source_directory)\n",
    "# Destination directory where files will be merged\n",
    "destination_directory = '/Downloads/Jnk_media'\n",
    "\n",
    "# Iterate through each folder in the source directory\n",
    "for root, dirs, files in os.walk(source_directory):\n",
    "    # Iterate through each file in the current folder\n",
    "    for file in files:\n",
    "        # Get the full path of the current file\n",
    "        file_path = os.path.join(root, file)\n",
    "        # Move the file to the destination directory\n",
    "        shutil.move(file_path, destination_directory)\n",
    "\n",
    "print(\"Files merged successfully.\")\n"
   ]
  },
  {
   "cell_type": "code",
   "execution_count": null,
   "id": "e8de7888-093c-4539-813d-2ad71319c9f8",
   "metadata": {},
   "outputs": [],
   "source": []
  }
 ],
 "metadata": {
  "kernelspec": {
   "display_name": "Python 3 (ipykernel)",
   "language": "python",
   "name": "python3"
  },
  "language_info": {
   "codemirror_mode": {
    "name": "ipython",
    "version": 3
   },
   "file_extension": ".py",
   "mimetype": "text/x-python",
   "name": "python",
   "nbconvert_exporter": "python",
   "pygments_lexer": "ipython3",
   "version": "3.11.4"
  }
 },
 "nbformat": 4,
 "nbformat_minor": 5
}
